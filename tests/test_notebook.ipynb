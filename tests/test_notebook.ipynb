{
 "cells": [
  {
   "cell_type": "code",
   "execution_count": 9,
   "id": "bc432f94",
   "metadata": {},
   "outputs": [
    {
     "name": "stdout",
     "output_type": "stream",
     "text": [
      "Water Saturation 0.01575 | 1.58%\n",
      "Water Saturation 0.01575 | 1.58%\n"
     ]
    }
   ],
   "source": [
    "import numpy as np\n",
    "\n",
    "def eq1(rw, rt, phi, q):\n",
    "    root_1 = (0.8 * rw) / (rt * phi**2)\n",
    "    root_2 = (q / 2) ** 2\n",
    "    sw = (np.sqrt(root_1 + root_2) - (q / 2)) / (1 - q)\n",
    "    print(\"Water Saturation\", f\"{sw:.4g} | {sw*100:.2f}%\")\n",
    "    \n",
    "def eq2(rw, rt, phi_s, q):\n",
    "    num = (0.8 * rw) / (phi_s ** 2 * rt)\n",
    "    root_expr = np.sqrt(num + (q / 2) ** 2)\n",
    "    sw = (root_expr - q / 2) / (1 - q)\n",
    "    print(\"Water Saturation\", f\"{sw:.4g} | {sw*100:.2f}%\")\n",
    "    \n",
    "eq1(0.2, 1000, 0.2, 0.5)\n",
    "eq2(0.2, 1000, 0.2, 0.5)"
   ]
  }
 ],
 "metadata": {
  "kernelspec": {
   "display_name": "Python 3",
   "language": "python",
   "name": "python3"
  },
  "language_info": {
   "codemirror_mode": {
    "name": "ipython",
    "version": 3
   },
   "file_extension": ".py",
   "mimetype": "text/x-python",
   "name": "python",
   "nbconvert_exporter": "python",
   "pygments_lexer": "ipython3",
   "version": "3.13.2"
  }
 },
 "nbformat": 4,
 "nbformat_minor": 5
}
